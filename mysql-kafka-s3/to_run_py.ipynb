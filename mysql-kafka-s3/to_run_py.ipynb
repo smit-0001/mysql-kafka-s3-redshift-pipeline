{
 "cells": [
  {
   "cell_type": "code",
   "execution_count": 1,
   "metadata": {},
   "outputs": [],
   "source": [
    "from pyspark.sql import SparkSession"
   ]
  },
  {
   "cell_type": "code",
   "execution_count": 104,
   "metadata": {},
   "outputs": [],
   "source": [
    "spark_session = (SparkSession.builder.master(\"local[*]\")\n",
    ".config('spark.jars.packages',\"mysql:mysql-connector-java:8.0.28.jar\")\n",
    ".config(\"spark.driver.extraClassPath\", \"./project/mysql-connector-java-8.0.28.jar\")\n",
    ".config(\"spark.jars\",\"./project/mysql-connector-java-8.0.28.jar\")\n",
    ".appName(\"MYSQL-QUERY\")\n",
    ".getOrCreate())"
   ]
  },
  {
   "cell_type": "code",
   "execution_count": null,
   "metadata": {},
   "outputs": [],
   "source": []
  },
  {
   "cell_type": "code",
   "execution_count": null,
   "metadata": {},
   "outputs": [],
   "source": []
  }
 ],
 "metadata": {
  "kernelspec": {
   "display_name": "Python 3",
   "language": "python",
   "name": "python3"
  },
  "language_info": {
   "codemirror_mode": {
    "name": "ipython",
    "version": 3
   },
   "file_extension": ".py",
   "mimetype": "text/x-python",
   "name": "python",
   "nbconvert_exporter": "python",
   "pygments_lexer": "ipython3",
   "version": "3.8.10"
  }
 },
 "nbformat": 4,
 "nbformat_minor": 2
}
